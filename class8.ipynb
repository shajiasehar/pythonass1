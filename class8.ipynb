{
 "cells": [
  {
   "cell_type": "code",
   "execution_count": 34,
   "metadata": {},
   "outputs": [
    {
     "name": "stdout",
     "output_type": "stream",
     "text": [
      "no\n",
      "20 kilometer per liter\n",
      "The car name is audi. Model of car A8 and Car color is brown\n"
     ]
    },
    {
     "data": {
      "text/plain": [
       "'mercades'"
      ]
     },
     "execution_count": 34,
     "metadata": {},
     "output_type": "execute_result"
    }
   ],
   "source": [
    "class Car():\n",
    "    def __init__(self,name,model,color):\n",
    "        self.name = name\n",
    "        self.model = model\n",
    "        self.color = color\n",
    "    def average(self,kilo):\n",
    "        print(\"{} kilometer per liter\".format(kilo))\n",
    "    \n",
    "    def tank(yes):\n",
    "        print(\"yes\")\n",
    "        \n",
    "class Electric_car(Car):\n",
    "    def __init__(self,name,model,color):\n",
    "        super().__init__(name,model,color)\n",
    "  \n",
    "    def tank(self):\n",
    "        print(\"no\")\n",
    "        \n",
    "    def get_description(self):\n",
    "        print(\"The car name is {}. Model of car {} and Car color is {}\".format(self.name,self.model,self.color))\n",
    "\n",
    "car1 = Car('audi','A3','black')\n",
    "\n",
    "new_car = Electric_car('audi','A8','brown')\n",
    "new_car.tank()\n",
    "new_car.average(20)\n",
    "new_car.get_description()\n",
    "\n",
    "car1.name\n",
    "car1.name = 'mercades'\n",
    "car1.name"
   ]
  },
  {
   "cell_type": "code",
   "execution_count": 40,
   "metadata": {},
   "outputs": [
    {
     "name": "stdout",
     "output_type": "stream",
     "text": [
      "30 kilometers per liter\n",
      "35 kilometers per liter\n"
     ]
    }
   ],
   "source": [
    "#encapsulation\n",
    "\n",
    "class NewCar():\n",
    "    def __init__(self):\n",
    "        self.__maxAverage = 30\n",
    "        \n",
    "    def average(self):\n",
    "        print(\"{} kilometers per liter\".format(self.__maxAverage))\n",
    "    \n",
    "    def updateAverage(self,updated_value): \n",
    "        self.__maxAverage = updated_value\n",
    "\n",
    "obj = NewCar()\n",
    "\n",
    "obj.average()\n",
    "\n",
    "obj.updateAverage(35)\n",
    "obj.average()"
   ]
  },
  {
   "cell_type": "code",
   "execution_count": 45,
   "metadata": {},
   "outputs": [
    {
     "name": "stdout",
     "output_type": "stream",
     "text": [
      "The capital  of pakistan Islamabad.population of pakistan of 20 crore\n",
      "The capital of USA is Washington DC and population of USA 40 crore\n"
     ]
    }
   ],
   "source": [
    "#polymorpism\n",
    "\n",
    "class Pakistan():\n",
    "    def detail(self):\n",
    "        print(\"The capital  of pakistan Islamabad.population of pakistan 20 crore\")\n",
    "        \n",
    "class USA():\n",
    "    def detail(self):\n",
    "        print(\"The capital of USA is Washington DC and population of USA 40 crore\")\n",
    "        \n",
    "def description(country):\n",
    "    country.detail()\n",
    "    \n",
    "pak = Pakistan()\n",
    "usa = USA()\n",
    "\n",
    "description(pak)\n",
    "description(usa)"
   ]
  },
  {
   "cell_type": "code",
   "execution_count": 51,
   "metadata": {},
   "outputs": [
    {
     "ename": "TypeError",
     "evalue": "sum() missing 1 required positional argument: 'c'",
     "output_type": "error",
     "traceback": [
      "\u001b[1;31m---------------------------------------------------------------------------\u001b[0m",
      "\u001b[1;31mTypeError\u001b[0m                                 Traceback (most recent call last)",
      "\u001b[1;32m<ipython-input-51-31fb7e809fce>\u001b[0m in \u001b[0;36m<module>\u001b[1;34m\u001b[0m\n\u001b[0;32m      8\u001b[0m \u001b[0mobj3\u001b[0m \u001b[1;33m=\u001b[0m \u001b[0mOverloadingDemo\u001b[0m\u001b[1;33m(\u001b[0m\u001b[1;33m)\u001b[0m\u001b[1;33m\u001b[0m\u001b[1;33m\u001b[0m\u001b[0m\n\u001b[0;32m      9\u001b[0m \u001b[1;33m\u001b[0m\u001b[0m\n\u001b[1;32m---> 10\u001b[1;33m \u001b[0mobj3\u001b[0m\u001b[1;33m.\u001b[0m\u001b[0msum\u001b[0m\u001b[1;33m(\u001b[0m\u001b[1;36m2\u001b[0m\u001b[1;33m,\u001b[0m\u001b[1;36m4\u001b[0m\u001b[1;33m)\u001b[0m\u001b[1;33m\u001b[0m\u001b[1;33m\u001b[0m\u001b[0m\n\u001b[0m",
      "\u001b[1;31mTypeError\u001b[0m: sum() missing 1 required positional argument: 'c'"
     ]
    }
   ],
   "source": [
    "class OverloadingDemo():\n",
    "    def sum(self,a,b):\n",
    "        print(a+b)\n",
    "        \n",
    "    def sum(self,a,b,c):\n",
    "        print(a+b+c)\n",
    "        \n",
    "obj3 = OverloadingDemo()\n",
    "\n",
    "obj3.sum(2,4)"
   ]
  },
  {
   "cell_type": "code",
   "execution_count": 52,
   "metadata": {},
   "outputs": [
    {
     "name": "stdout",
     "output_type": "stream",
     "text": [
      "11\n"
     ]
    }
   ],
   "source": [
    "class OverloadingDemo():\n",
    "    def sum(self,a,b):\n",
    "        print(a+b)\n",
    "        \n",
    "    def sum(self,a,b,c):\n",
    "        print(a+b+c)\n",
    "        \n",
    "obj3 = OverloadingDemo()\n",
    "\n",
    "obj3.sum(2,4,5)\n"
   ]
  },
  {
   "cell_type": "code",
   "execution_count": 55,
   "metadata": {},
   "outputs": [
    {
     "name": "stdout",
     "output_type": "stream",
     "text": [
      "11\n"
     ]
    }
   ],
   "source": [
    "class OverloadingDemo():\n",
    "    def sum(self,a=None,b=None,c=None):\n",
    "        if a!= None and b!= None and c!= None:\n",
    "            print(a+b+c)\n",
    "        elif a!= None and b!= None:\n",
    "            print(a+b)\n",
    "        \n",
    "obj3 = OverloadingDemo()\n",
    "\n",
    "obj3.sum(2,4,5)\n"
   ]
  },
  {
   "cell_type": "code",
   "execution_count": 59,
   "metadata": {},
   "outputs": [
    {
     "name": "stdout",
     "output_type": "stream",
     "text": [
      "6\n",
      "4\n"
     ]
    }
   ],
   "source": [
    "print(len(\"shajia\"))\n",
    "print(len([1,2,3,4]))"
   ]
  },
  {
   "cell_type": "code",
   "execution_count": 66,
   "metadata": {
    "scrolled": true
   },
   "outputs": [
    {
     "name": "stdout",
     "output_type": "stream",
     "text": [
      "he gives6tola\n",
      "valima is going on\n"
     ]
    }
   ],
   "source": [
    "#abstraction \n",
    "\n",
    "from abc import ABC,abstractmethod\n",
    "\n",
    "class Nikkah(ABC):\n",
    "    @abstractmethod\n",
    "    def haqmahar(self):\n",
    "        pass \n",
    "    \n",
    "class Human1(Nikkah):\n",
    "    def haqmahar(self,tola):\n",
    "        print(\"he gives\" + str(tola) + \"tola\")\n",
    "   \n",
    "    def valima(self):\n",
    "        print(\"valima is going on\")\n",
    "        \n",
    "obj6 = Human1()\n",
    "obj6.haqmahar(6)\n",
    "obj6.valima()"
   ]
  },
  {
   "cell_type": "code",
   "execution_count": null,
   "metadata": {},
   "outputs": [],
   "source": []
  }
 ],
 "metadata": {
  "kernelspec": {
   "display_name": "Python 3",
   "language": "python",
   "name": "python3"
  },
  "language_info": {
   "codemirror_mode": {
    "name": "ipython",
    "version": 3
   },
   "file_extension": ".py",
   "mimetype": "text/x-python",
   "name": "python",
   "nbconvert_exporter": "python",
   "pygments_lexer": "ipython3",
   "version": "3.7.3"
  }
 },
 "nbformat": 4,
 "nbformat_minor": 2
}
